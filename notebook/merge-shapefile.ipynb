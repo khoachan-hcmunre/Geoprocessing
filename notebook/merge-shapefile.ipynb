{
 "cells": [
  {
   "cell_type": "code",
   "execution_count": null,
   "metadata": {},
   "outputs": [],
   "source": [
    "import geopandas as gpd\n",
    "import pandas as pd \n",
    "import os\n",
    "\n",
    "def merge_shapefiles(input_folder, output_file):"
   ]
  },
  {
   "cell_type": "code",
   "execution_count": null,
   "metadata": {},
   "outputs": [],
   "source": [
    "shapefiles = [f for f in os.listdir(input_folder) if f.endswith('.shp')]\n",
    "\n",
    "if not shapefiles:\n",
    "print(\"Không tìm thấy file Shapefile trong thư mục.\")\n",
    "return"
   ]
  },
  {
   "cell_type": "code",
   "execution_count": null,
   "metadata": {},
   "outputs": [],
   "source": [
    "gdf_list = []\n",
    "for shapefile in shapefiles:\n",
    "gdf = gpd.read_file(os.path.join(input_folder, shapefile))\n",
    "gdf_list.append(gdf)\n",
    "\n",
    "merged_gdf = gpd.GeoDataFrame(pd.concat(gdf_list, ignore_index=True))\n",
    "\n",
    "merged_gdf.to_file(output_file)"
   ]
  },
  {
   "cell_type": "code",
   "execution_count": null,
   "metadata": {},
   "outputs": [],
   "source": [
    "input_folder = 'shp_dn'\n",
    "\n",
    "output_file = 'ketqua1'\n",
    " \n",
    "merge_shapefiles(input_folder, output_file)"
   ]
  }
 ],
 "metadata": {
  "kernelspec": {
   "display_name": "Python 3",
   "language": "python",
   "name": "python3"
  },
  "language_info": {
   "codemirror_mode": {
    "name": "ipython",
    "version": 3
   },
   "file_extension": ".py",
   "mimetype": "text/x-python",
   "name": "python",
   "nbconvert_exporter": "python",
   "pygments_lexer": "ipython3",
   "version": "3.12.0"
  }
 },
 "nbformat": 4,
 "nbformat_minor": 2
}
