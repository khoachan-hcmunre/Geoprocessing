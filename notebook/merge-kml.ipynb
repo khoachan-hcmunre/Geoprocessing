{
 "cells": [
  {
   "cell_type": "code",
   "execution_count": null,
   "metadata": {},
   "outputs": [],
   "source": [
    "import os\n",
    "import xml.etree.ElementTree as ET"
   ]
  },
  {
   "cell_type": "code",
   "execution_count": null,
   "metadata": {},
   "outputs": [],
   "source": [
    "def merge_kml_files(input_folder, output_file):\n",
    "\n",
    "    root = ET.Element('kml', xmlns='http://www.opengis.net/kml/2.2')\n",
    "    document = ET.SubElement(root, 'Document')\n",
    "\n",
    "    for filename in os.listdir(input_folder):\n",
    "        if filename.endswith('.kml'):\n",
    "            filepath = os.path.join(input_folder, filename)\n",
    "\n",
    "            tree = ET.parse(filepath)\n",
    "            root_element = tree.getroot()\n",
    "\n",
    "            for child in root_element.find('.//Document').iter():\n",
    "                document.append(child)\n",
    "\n",
    "    new_tree = ET.ElementTree(root)\n",
    "\n",
    "    new_tree.write(output_file, encoding='utf-8', xml_declaration=True)\n",
    "\n",
    "if __name__ == \"__main__\":\n",
    "    input_folder = \"data/ct/\"\n",
    "    output_file = \"merg.kml\"\n",
    "    merge_kml_files(input_folder, output_file)\n"
   ]
  }
 ],
 "metadata": {
  "kernelspec": {
   "display_name": "Python 3",
   "language": "python",
   "name": "python3"
  },
  "language_info": {
   "codemirror_mode": {
    "name": "ipython",
    "version": 3
   },
   "file_extension": ".py",
   "mimetype": "text/x-python",
   "name": "python",
   "nbconvert_exporter": "python",
   "pygments_lexer": "ipython3",
   "version": "3.12.0"
  }
 },
 "nbformat": 4,
 "nbformat_minor": 2
}
